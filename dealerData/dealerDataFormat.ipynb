{
 "cells": [
  {
   "cell_type": "markdown",
   "metadata": {},
   "source": [
    "# Data Extraction and Formatting \n",
    "## MM Foam Dealers"
   ]
  },
  {
   "cell_type": "code",
   "execution_count": 9,
   "metadata": {},
   "outputs": [],
   "source": [
    "# Importing OS module to access filesystem\n",
    "import os\n",
    "# Module for reading csv file\n",
    "import csv"
   ]
  },
  {
   "cell_type": "code",
   "execution_count": 10,
   "metadata": {},
   "outputs": [],
   "source": [
    "stateWiseDataFiles = os.listdir('raw')"
   ]
  },
  {
   "cell_type": "markdown",
   "metadata": {},
   "source": [
    "Data has following column headers\n",
    "- SL.NO.\n",
    "- DEALER NAME\n",
    "- FULL ADDRESS\n",
    "- AREA\n",
    "- CITY\n",
    "- STATE\n",
    "- PIN CODE\n",
    "- STORE TYPE\n",
    "- PHONE-1\n",
    "- PHONE-2\n",
    "- MOBILE"
   ]
  },
  {
   "cell_type": "code",
   "execution_count": 17,
   "metadata": {},
   "outputs": [],
   "source": [
    "def readFile(filename):\n",
    "    filename = \"raw/\"+filename\n",
    "    try:\n",
    "        with open (filename, mode='r') as file:\n",
    "            fileContent = csv.reader(file)\n",
    "            return fileContent\n",
    "    except OSError as e:\n",
    "        print(e)"
   ]
  },
  {
   "cell_type": "code",
   "execution_count": 18,
   "metadata": {},
   "outputs": [
    {
     "name": "stdout",
     "output_type": "stream",
     "text": [
      "<_csv.reader object at 0x7fbf20155cd0>\n"
     ]
    }
   ],
   "source": [
    "print(readFile(stateWiseDataFiles[0]))"
   ]
  },
  {
   "cell_type": "code",
   "execution_count": null,
   "metadata": {},
   "outputs": [],
   "source": []
  }
 ],
 "metadata": {
  "kernelspec": {
   "display_name": "Python 3",
   "language": "python",
   "name": "python3"
  },
  "language_info": {
   "codemirror_mode": {
    "name": "ipython",
    "version": 3
   },
   "file_extension": ".py",
   "mimetype": "text/x-python",
   "name": "python",
   "nbconvert_exporter": "python",
   "pygments_lexer": "ipython3",
   "version": "3.7.6"
  }
 },
 "nbformat": 4,
 "nbformat_minor": 4
}
